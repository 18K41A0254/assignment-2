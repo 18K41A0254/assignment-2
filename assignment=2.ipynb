{
  "nbformat": 4,
  "nbformat_minor": 0,
  "metadata": {
    "colab": {
      "name": "assignment=2",
      "provenance": [],
      "authorship_tag": "ABX9TyOw67rGyw9no/CrUzOUru6X",
      "include_colab_link": true
    },
    "kernelspec": {
      "name": "python3",
      "display_name": "Python 3"
    }
  },
  "cells": [
    {
      "cell_type": "markdown",
      "metadata": {
        "id": "view-in-github",
        "colab_type": "text"
      },
      "source": [
        "<a href=\"https://colab.research.google.com/github/18K41A0254/assignment-2/blob/master/assignment%3D2.ipynb\" target=\"_parent\"><img src=\"https://colab.research.google.com/assets/colab-badge.svg\" alt=\"Open In Colab\"/></a>"
      ]
    },
    {
      "cell_type": "code",
      "metadata": {
        "id": "D6lWMr-I1c30",
        "colab_type": "code",
        "colab": {}
      },
      "source": [
        "Given the lengths of three sides of a triangle, calculate the area of the triangle. "
      ],
      "execution_count": null,
      "outputs": []
    },
    {
      "cell_type": "code",
      "metadata": {
        "id": "VNqHu5oI3Ocb",
        "colab_type": "code",
        "colab": {}
      },
      "source": [
        "s1=int(input(\"enter length of first side\"))\n",
        "s2=int(input(\"enter length of second side\"))\n",
        "s3=int(input(\"enter length of third side\"))\n",
        "p=(s1+s2+s3)/2\n",
        "area=((p*(p-s1)(p-s2)(p-s3))**(1/2))\n",
        "print(\"area of triangle=\",area)"
      ],
      "execution_count": null,
      "outputs": []
    },
    {
      "cell_type": "code",
      "metadata": {
        "id": "e945Bisr4OGV",
        "colab_type": "code",
        "colab": {}
      },
      "source": [
        ""
      ],
      "execution_count": null,
      "outputs": []
    },
    {
      "cell_type": "code",
      "metadata": {
        "id": "xAaACO7u3mhF",
        "colab_type": "code",
        "colab": {}
      },
      "source": [
        "2.\tTake a string from end user and check if the value is palindrome or not"
      ],
      "execution_count": null,
      "outputs": []
    },
    {
      "cell_type": "code",
      "metadata": {
        "id": "XIiJnFxq4Ps8",
        "colab_type": "code",
        "colab": {}
      },
      "source": [
        "n=str(input(\"enter a string\"))\n",
        "m=\"\".join(reversed(n))\n",
        "if n==m:\n",
        "  print(\"It is a palindrome\")\n",
        "else:\n",
        "  print(\"It is not a palindrome\")"
      ],
      "execution_count": null,
      "outputs": []
    },
    {
      "cell_type": "code",
      "metadata": {
        "id": "dEtFKuj74h9y",
        "colab_type": "code",
        "colab": {}
      },
      "source": [
        "3.\tWrite a program that reads a year from the user and displays a message \n",
        "Indicating whether or not it is a leap year.\n"
      ],
      "execution_count": null,
      "outputs": []
    },
    {
      "cell_type": "code",
      "metadata": {
        "id": "Eu_SIQu_4xwl",
        "colab_type": "code",
        "colab": {}
      },
      "source": [
        "year=int(input(\"enter a year\"))\n",
        "if year%4==0:\n",
        "  print(\"It is a leap year\")\n",
        "else:\n",
        "  print(\"It is not a leap year\")"
      ],
      "execution_count": null,
      "outputs": []
    },
    {
      "cell_type": "code",
      "metadata": {
        "id": "La7kXWv04_uK",
        "colab_type": "code",
        "colab": {}
      },
      "source": [
        "4.\t Space To Hyphen problem \n",
        "Take a string as input, and replaces spaces “ “  with hyphens “-”, and returns a string.\n",
        "Input: “ This program converts spaces into hyphen”\n",
        "      Output:     “ This-program-converts-spaces-into-hyphen”\n"
      ],
      "execution_count": null,
      "outputs": []
    },
    {
      "cell_type": "code",
      "metadata": {
        "id": "FN5s4QZb5IPu",
        "colab_type": "code",
        "colab": {}
      },
      "source": [
        "n=str(input(\"enter a string\"))\n",
        "m=n.replace(\" \",\"-\")\n",
        "print(\"string after replacing space with hyphen\",m)"
      ],
      "execution_count": null,
      "outputs": []
    },
    {
      "cell_type": "code",
      "metadata": {
        "id": "4G_hi6sm5gQR",
        "colab_type": "code",
        "colab": {}
      },
      "source": [
        "5.\tUnique Sort problem \n",
        "Take a string as input that accepts a comma separated sequence of words as input and prints the unique words in sorted form (alphanumerically).\n",
        "*Input*: orange, white, red, cyan, green, magenta, cyan, pink, white\n",
        "*Output*: cyan, green, magenta, orange, pink, red, white\n"
      ],
      "execution_count": null,
      "outputs": []
    },
    {
      "cell_type": "code",
      "metadata": {
        "id": "HbcbLYr76a1o",
        "colab_type": "code",
        "colab": {}
      },
      "source": [
        "n"
      ],
      "execution_count": null,
      "outputs": []
    },
    {
      "cell_type": "code",
      "metadata": {
        "id": "pFGL9XC_5u8R",
        "colab_type": "code",
        "colab": {}
      },
      "source": [
        "item=input(\"enter the items\\n\")\n",
        "item=item.replace(\",\",\" \")\n",
        "word=item.split()\n",
        "word.sort()\n",
        "for i in range (len(word)):\n",
        "  if word[i]==word[i+1]:\n",
        "    del word[i]\n",
        "    if i==((len(word))-1):\n",
        "     break\n",
        "print(','.join(word))"
      ],
      "execution_count": null,
      "outputs": []
    },
    {
      "cell_type": "code",
      "metadata": {
        "id": "8cDHoe9z7Cjq",
        "colab_type": "code",
        "colab": {}
      },
      "source": [
        "6.\tTax Calculator\n",
        "Ask the user for their monthly salary. Calculate whether they have to pay tax and if so, how much is that amount .Print the result\n",
        " \n"
      ],
      "execution_count": null,
      "outputs": []
    },
    {
      "cell_type": "code",
      "metadata": {
        "id": "m3MZVai57Elm",
        "colab_type": "code",
        "colab": {}
      },
      "source": [
        "s=int(input(\"enter your salary:\"))\n",
        "t={1:0,2:0.05,3:0.1,4:0.15,5:0.2,6:0.25,7:0.3}\n",
        "if s<=250000:\n",
        "  i=1\n",
        "elif 250001<=s<=500000:\n",
        "  i=2\n",
        "elif 500001<=s<=750000:\n",
        "  i=3\n",
        "elif 750001<=s<=1000000:\n",
        "  i=4\n",
        "elif 1000001<=s<=1250000:\n",
        "  i=5\n",
        "elif 1250001<=s<=1500000:\n",
        "  i=6\n",
        "elif s>1500000:\n",
        "  i=7\n",
        "tax=s*t[i]\n",
        "print(\"total tax=\",tax)"
      ],
      "execution_count": null,
      "outputs": []
    },
    {
      "cell_type": "code",
      "metadata": {
        "id": "xwvo9eSo7QeE",
        "colab_type": "code",
        "colab": {}
      },
      "source": [
        "7.\tTake a list of integers as an argument, and converts it into a single integer (return the integer).\n",
        "*Input*: [11, 33, 50]\n",
        "*Output*: 113350\n"
      ],
      "execution_count": null,
      "outputs": []
    },
    {
      "cell_type": "code",
      "metadata": {
        "id": "hI6esImA7V7I",
        "colab_type": "code",
        "colab": {}
      },
      "source": [
        "n=int(input(\"enter the length of list\"))\n",
        "l=[]\n",
        "for i in range(n):\n",
        " x=int(input())\n",
        " l.append(x)\n",
        " l[i]=str(l[i])\n",
        "print(\"The list as single element\",''.join(l))"
      ],
      "execution_count": null,
      "outputs": []
    },
    {
      "cell_type": "code",
      "metadata": {
        "id": "QhF2PNxs7lYf",
        "colab_type": "code",
        "colab": {}
      },
      "source": [
        "8.\tUnits of Time\n",
        "Create a program that reads duration from the user as a number of days, hours, minutes, and seconds. Compute and display the total number of seconds represented by this duration. \n"
      ],
      "execution_count": null,
      "outputs": []
    },
    {
      "cell_type": "code",
      "metadata": {
        "id": "uisKLJrX8G9C",
        "colab_type": "code",
        "colab": {}
      },
      "source": [
        "day=int(input(\"enter number of days:\"))\n",
        "hr=int(input(\"enter number of hours:\"))\n",
        "min=int(input(\"enter number of minutes:\"))\n",
        "sec=int(input(\"enter number of seconds:\"))\n",
        "time=(day*60*60*24)+(hr*60*60)+(min*60)+sec\n",
        "print(\"Total duration in seconds:\",time)"
      ],
      "execution_count": null,
      "outputs": []
    },
    {
      "cell_type": "code",
      "metadata": {
        "id": "a2mVYIGl8LTQ",
        "colab_type": "code",
        "colab": {}
      },
      "source": [
        "9.\tSort 3 Integers\n",
        "Given three integers (given through user input), sort the numbers using |min| and  |max| functions.\n"
      ],
      "execution_count": null,
      "outputs": []
    },
    {
      "cell_type": "code",
      "metadata": {
        "id": "UrB5ja8c8ZMc",
        "colab_type": "code",
        "colab": {}
      },
      "source": [
        "a=int(input(\"enter first number:\"))\n",
        "b=int(input(\"enter second number:\"))\n",
        "c=int(input(\"enter third number:\"))\n",
        "min=min(a,b,c)\n",
        "max=max(a,b,c)\n",
        "n=a+b+c-(min+max)\n",
        "print(\"The sorted numbers are:\",min,n,max)"
      ],
      "execution_count": null,
      "outputs": []
    },
    {
      "cell_type": "code",
      "metadata": {
        "id": "8NUbNE4I8fTw",
        "colab_type": "code",
        "colab": {}
      },
      "source": [
        "10.\tWrite a program that reads a date from the user and computes its immediate successor. The date is the format YYYY-MM-DD. So, 2020-04-15 will have the successor 2020-04-16."
      ],
      "execution_count": null,
      "outputs": []
    },
    {
      "cell_type": "code",
      "metadata": {
        "id": "2A15QaDY8sOX",
        "colab_type": "code",
        "colab": {}
      },
      "source": [
        "y=int(input(\"enter year:\"))\n",
        "m=int(input(\"enter month:\"))\n",
        "d=int(input(\"enter day:\"))\n",
        "if m in (1,3,5,7,8,10,12):\n",
        " ld=31\n",
        "elif m==2:\n",
        "  if y%4==0:\n",
        "    ld=29\n",
        "  else :\n",
        "    ld=28\n",
        "else :\n",
        "   ld=30\n",
        "if d<ld:\n",
        "   d+=1\n",
        "else :\n",
        "   d=1\n",
        "if m==31:\n",
        "   m=1\n",
        "   y+=1\n",
        "else :\n",
        "   m+=1\n",
        "print(\"The next day date is:\",y,'-',m,'-',d)"
      ],
      "execution_count": null,
      "outputs": []
    },
    {
      "cell_type": "code",
      "metadata": {
        "id": "5Qn4UZPJ8z_8",
        "colab_type": "code",
        "colab": {}
      },
      "source": [
        "11.\tCompute product of a list of numbers [45 ,3,2,89,72,1,10,7]\n",
        "Output: 121111200\n"
      ],
      "execution_count": null,
      "outputs": []
    },
    {
      "cell_type": "code",
      "metadata": {
        "id": "OO5h8s3p88uf",
        "colab_type": "code",
        "colab": {}
      },
      "source": [
        "l=[45,3,2,89,72,1,10,7]\n",
        "p=1\n",
        "for i in l:\n",
        "  p*=i\n",
        "print(\"Product of the numbers in list is \",p)"
      ],
      "execution_count": null,
      "outputs": []
    },
    {
      "cell_type": "code",
      "metadata": {
        "id": "H30YMVd89GWA",
        "colab_type": "code",
        "colab": {}
      },
      "source": [
        "12.\tCompute given Num_list =  [5, 6,8 ,34,89,1] to get desired output\n",
        "Output: Out_list=[11,14,42,123,90]\n"
      ],
      "execution_count": null,
      "outputs": []
    },
    {
      "cell_type": "code",
      "metadata": {
        "id": "tmMScNYe9WDR",
        "colab_type": "code",
        "colab": {}
      },
      "source": [
        "il=[5,6,8,34,89,1]\n",
        "ol=[]\n",
        "for i in range(1,len(il)):\n",
        " s=il[i]+il[i-1]\n",
        " ol.append(s)    \n",
        "print(\"The output list is \",ol)"
      ],
      "execution_count": null,
      "outputs": []
    },
    {
      "cell_type": "code",
      "metadata": {
        "id": "ztqJBIZj9hPP",
        "colab_type": "code",
        "colab": {}
      },
      "source": [
        "13.Compute given Num_tuple =  (5, 6,8 ,3,9,1) to get desired output\n",
        "Output: Out_list = [5, 30, 240, 720, 6480, 6480]\n"
      ],
      "execution_count": null,
      "outputs": []
    },
    {
      "cell_type": "code",
      "metadata": {
        "id": "sHYt_ZM89orr",
        "colab_type": "code",
        "colab": {}
      },
      "source": [
        "t=(5,6,8,3,9,1)\n",
        "l=[]\n",
        "n=1\n",
        "for i in t:\n",
        "  n*=i\n",
        "  l.append(n)\n",
        "print(\"The output list is \",l)"
      ],
      "execution_count": null,
      "outputs": []
    },
    {
      "cell_type": "code",
      "metadata": {
        "id": "0bRnRKbP91nv",
        "colab_type": "code",
        "colab": {}
      },
      "source": [
        "14.\t Write a Python code that takes a number and returns a list of its digits. So for 586392 it should return [5,8,6,3,9,2]"
      ],
      "execution_count": null,
      "outputs": []
    },
    {
      "cell_type": "code",
      "metadata": {
        "id": "yL_2u8O697UE",
        "colab_type": "code",
        "colab": {}
      },
      "source": [
        "n=int(input(\"enter a number\"))\n",
        "l=[]\n",
        "for i in str(n):\n",
        " l.append(int(i))\n",
        "print(\"The output list is \",l)"
      ],
      "execution_count": null,
      "outputs": []
    },
    {
      "cell_type": "code",
      "metadata": {
        "id": "YwIwSVJq-Ah_",
        "colab_type": "code",
        "colab": {}
      },
      "source": [
        "15.\tWrite a program that finds the longest palindromic substring of a given string"
      ],
      "execution_count": null,
      "outputs": []
    },
    {
      "cell_type": "code",
      "metadata": {
        "id": "UJjypPxh-LuR",
        "colab_type": "code",
        "colab": {}
      },
      "source": [
        "class Solution(object):\n",
        "   def longestPalindrome(self, s):\n",
        "      dp = [[False for i in range(len(s))] for i in range(len(s))]\n",
        "      for i in range(len(s)):\n",
        "         dp[i][i] = True\n",
        "      max_length = 1\n",
        "      start = 0\n",
        "      for l in range(2,len(s)+1):\n",
        "         for i in range(len(s)-l+1):\n",
        "            end = i+l\n",
        "            if l==2:\n",
        "               if s[i] == s[end-1]:\n",
        "                  dp[i][end-1]=True\n",
        "                  max_length = l\n",
        "                  start = i\n",
        "            else:\n",
        "               if s[i] == s[end-1] and dp[i+1][end-2]:\n",
        "                  dp[i][end-1]=True\n",
        "                  max_length = l\n",
        "                  start = i\n",
        "      return s[start:start+max_length]\n",
        "s=input(\"enter a string:\")\n",
        "ob1 = Solution()\n",
        "print(ob1.longestPalindrome(s))"
      ],
      "execution_count": null,
      "outputs": []
    },
    {
      "cell_type": "code",
      "metadata": {
        "id": "J41Ft_kS-XIr",
        "colab_type": "code",
        "colab": {}
      },
      "source": [
        "16.\t Substring Check (Bug Funny)\n",
        "Given two binary strings, A (of length 10) and B (of length 5), output 1 if B is a substring of A and 0 otherwise.\n",
        "First two lines of input:\n",
        "\n",
        "1010110010          10110\n",
        "1110111011           10011\n",
        "First two lines of output:\n",
        "1\n",
        "0\n"
      ],
      "execution_count": null,
      "outputs": []
    },
    {
      "cell_type": "code",
      "metadata": {
        "id": "4WS8RZeH-fkt",
        "colab_type": "code",
        "colab": {}
      },
      "source": [
        "s=input(\"enter a binary string:\")\n",
        "ss=input(\"enter a binary substring:\")\n",
        "if ss in s:\n",
        " print(\"1\")\n",
        "else:\n",
        " print(\"0\")"
      ],
      "execution_count": null,
      "outputs": []
    },
    {
      "cell_type": "code",
      "metadata": {
        "id": "3S_WY7Ne-l2L",
        "colab_type": "code",
        "colab": {}
      },
      "source": [
        "17.\t  POUR1 - Pouring water\n",
        "Given two vessels, one of which can accommodate a litres of water and the other - b litres of water, determine the number of steps required to obtain exactly c litres of water in one of the vessels.\n",
        "At the beginning both vessels are empty. The following operations are counted as 'steps':\n",
        "•\temptying a vessel,\n",
        "•\tfilling a vessel,\n",
        "•\tpouring water from one vessel to the other, without spilling, until one of the vessels is either full or empty.\n",
        "Input\n",
        "An integer t, 1<=t<=100, denoting the number of testcases , followed by t sets of input data, each consisting of three positive integers a, b, c, not larger than 40000, given in separate lines.\n",
        "Output\n",
        "For each set of input data, output the minimum number of steps required to obtain c litres, or -1 if this is impossible.\n",
        "\n",
        "Example\n",
        "Sample input:\n",
        "2\n",
        "5\n",
        "2\n",
        "3\n",
        "2\n",
        "3\n",
        "4\n",
        " \n",
        "Sample output:\n",
        "2\n",
        "-1\n"
      ],
      "execution_count": null,
      "outputs": []
    },
    {
      "cell_type": "code",
      "metadata": {
        "id": "9E0w9rXX-xwM",
        "colab_type": "code",
        "colab": {}
      },
      "source": [
        "def gcd(a,b):\n",
        "    if b==0: \n",
        "        return a \n",
        "    return gcd(b,a%b) \n",
        "def countsteps(a,b,c): \n",
        "    v1=b\n",
        "    v2=0\n",
        "    count=1\n",
        "    while ((v1 is not c) and (v2 is not c)): \n",
        "        temp=min(v1,a-v2) \n",
        "        v2=v2+temp \n",
        "        v1=v1-temp \n",
        "        count=count+1\n",
        "        if ((v2==c)or(v1==c)): \n",
        "            break\n",
        "        if v1==0: \n",
        "            v1=b \n",
        "            count=count+1\n",
        "        if v2==a: \n",
        "            v2=0\n",
        "            count=count+1\n",
        "    return count \n",
        "def ispossible(a,b,c): \n",
        "    if a>b: \n",
        "        temp=a \n",
        "        a=b \n",
        "        b=temp \n",
        "    if c>b: \n",
        "        return -1\n",
        "    if (c%(gcd(b,a)) is not 0): \n",
        "        return -1\n",
        "    return(min(countsteps(b,a,c),countsteps(a,b,c)))\n",
        "t=int(input(\"Enter no of testcases : \"))\n",
        "for i in range(t):\n",
        "  a=int(input(\"Enter capacity of vessel a : \"))\n",
        "  b=int(input(\"Enter capacity of vessel b : \"))\n",
        "  c=int(input(\"Enter capacity to be obtained :\"))\n",
        "  print(\"Minimum number of steps required is : \",ispossible(a,b,c))\n"
      ],
      "execution_count": null,
      "outputs": []
    },
    {
      "cell_type": "code",
      "metadata": {
        "id": "fkdIUhr76rcv",
        "colab_type": "code",
        "colab": {}
      },
      "source": [
        ""
      ],
      "execution_count": null,
      "outputs": []
    }
  ]
}